{
 "cells": [
  {
   "cell_type": "code",
   "execution_count": 12,
   "id": "44d3f889",
   "metadata": {},
   "outputs": [],
   "source": [
    "from bs4 import BeautifulSoup as bs\n",
    "from datetime import datetime\n",
    "from datetime import date\n",
    "from datetime import timedelta\n",
    "from fractions import Fraction\n",
    "from urllib.request import Request, urlopen\n",
    "import requests\n",
    "import cloudscraper\n",
    "import pandas as pd\n",
    "import math\n",
    "import re"
   ]
  },
  {
   "cell_type": "code",
   "execution_count": 27,
   "id": "95492bfa",
   "metadata": {},
   "outputs": [],
   "source": [
    "url = \"https://www.pro-football-reference.com/years/2021/receiving.htm\"\n",
    "r = requests.get(url)"
   ]
  },
  {
   "cell_type": "code",
   "execution_count": 29,
   "id": "e1ee8692",
   "metadata": {},
   "outputs": [],
   "source": [
    "df_list = pd.read_html(r.text) # this parses all the tables in webpages to a list\n",
    "df = df_list[0]\n",
    "#df = df.droplevel(0, axis=1)\n",
    "#df = df.dropna(axis='columns',how='all')"
   ]
  },
  {
   "cell_type": "code",
   "execution_count": 33,
   "id": "b5296df5",
   "metadata": {},
   "outputs": [],
   "source": [
    "df = df[['Player', 'Rec', 'Yds']]"
   ]
  },
  {
   "cell_type": "code",
   "execution_count": 40,
   "id": "4a1eb53a",
   "metadata": {},
   "outputs": [
    {
     "data": {
      "text/plain": [
       "0          Cooper Kupp*+\n",
       "1        Davante Adams*+\n",
       "2           Tyreek Hill*\n",
       "3      Justin Jefferson*\n",
       "4         Mark Andrews*+\n",
       "             ...        \n",
       "523        Seth Williams\n",
       "524    Trayveon Williams\n",
       "525               Player\n",
       "526        Easop Winston\n",
       "527          Deon Yelder\n",
       "Name: Player, Length: 528, dtype: object"
      ]
     },
     "execution_count": 40,
     "metadata": {},
     "output_type": "execute_result"
    }
   ],
   "source": [
    "df['Player']"
   ]
  },
  {
   "cell_type": "code",
   "execution_count": 47,
   "id": "d77fa756",
   "metadata": {},
   "outputs": [
    {
     "name": "stderr",
     "output_type": "stream",
     "text": [
      "<ipython-input-47-3a0448ffdf74>:1: FutureWarning: The default value of regex will change from True to False in a future version. In addition, single character regular expressions will*not* be treated as literal strings when regex=True.\n",
      "  df['Player'] = df['Player'].str.replace('*', '')\n",
      "<ipython-input-47-3a0448ffdf74>:1: SettingWithCopyWarning: \n",
      "A value is trying to be set on a copy of a slice from a DataFrame.\n",
      "Try using .loc[row_indexer,col_indexer] = value instead\n",
      "\n",
      "See the caveats in the documentation: https://pandas.pydata.org/pandas-docs/stable/user_guide/indexing.html#returning-a-view-versus-a-copy\n",
      "  df['Player'] = df['Player'].str.replace('*', '')\n",
      "<ipython-input-47-3a0448ffdf74>:2: FutureWarning: The default value of regex will change from True to False in a future version. In addition, single character regular expressions will*not* be treated as literal strings when regex=True.\n",
      "  df['Player'] = df['Player'].str.replace('+', '')\n",
      "<ipython-input-47-3a0448ffdf74>:2: SettingWithCopyWarning: \n",
      "A value is trying to be set on a copy of a slice from a DataFrame.\n",
      "Try using .loc[row_indexer,col_indexer] = value instead\n",
      "\n",
      "See the caveats in the documentation: https://pandas.pydata.org/pandas-docs/stable/user_guide/indexing.html#returning-a-view-versus-a-copy\n",
      "  df['Player'] = df['Player'].str.replace('+', '')\n"
     ]
    }
   ],
   "source": [
    "df['Player'] = df['Player'].str.replace('*', '')\n",
    "df['Player'] = df['Player'].str.replace('+', '')"
   ]
  },
  {
   "cell_type": "code",
   "execution_count": 53,
   "id": "560ed33c",
   "metadata": {},
   "outputs": [],
   "source": [
    "df.to_csv('2021NFLRec.csv', index=False)"
   ]
  }
 ],
 "metadata": {
  "kernelspec": {
   "display_name": "Python 3",
   "language": "python",
   "name": "python3"
  },
  "language_info": {
   "codemirror_mode": {
    "name": "ipython",
    "version": 3
   },
   "file_extension": ".py",
   "mimetype": "text/x-python",
   "name": "python",
   "nbconvert_exporter": "python",
   "pygments_lexer": "ipython3",
   "version": "3.8.8"
  }
 },
 "nbformat": 4,
 "nbformat_minor": 5
}
