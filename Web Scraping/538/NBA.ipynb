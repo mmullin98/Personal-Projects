{
 "cells": [
  {
   "cell_type": "code",
   "execution_count": 1,
   "id": "bc691bea",
   "metadata": {},
   "outputs": [],
   "source": [
    "def scrape(url):\n",
    "    import requests\n",
    "    import pandas as pd\n",
    "\n",
    "    r = requests.get(url)\n",
    "\n",
    "    df_list = pd.read_html(r.text) # this parses all the tables in webpages to a list\n",
    "    df = df_list[0]\n",
    "    df = df.droplevel(0, axis=1)\n",
    "    df = df.dropna(axis='columns',how='all')\n",
    "    df['Team'] = df['Team'].str.replace('1|2|3|4|5|6|7|8|9|0|\\-', '')\n",
    "    df['Chance of Making PlayoffsMake play-offs'] = df['Chance of Making PlayoffsMake play-offs'].str.replace('|>|<', '')\n",
    "    df['Chance of Making FinalsMake Finals'] = df['Chance of Making FinalsMake Finals'].str.replace('|>|<', '')\n",
    "    df['Chance of Winning FinalsWin Finals'] = df['Chance of Winning FinalsWin Finals'].str.replace('|>|<', '')\n",
    "\n",
    "    df.rename(columns={df.columns[0]:'rating',\n",
    "                       df.columns[1]: 'team',\n",
    "                       df.columns[2]: 'conference',\n",
    "                       df.columns[3]: 'full_strength_rating',\n",
    "                       df.columns[4]: 'proj_record',\n",
    "                       df.columns[5]: 'proj_pointdiff_pgame',\n",
    "                       df.columns[6]: 'make_playoffs',\n",
    "                       df.columns[7]: 'full_strength_rating',\n",
    "                       df.columns[8]: 'make_fi``nals',\n",
    "                       df.columns[9]: 'win_finals',}, inplace=True)\n",
    "    df_smaller = df[[\"team\", \"win_finals\"]]\n",
    "\n",
    "    df.to_csv(\"538_full.csv\",index=False)\n",
    "    df_smaller.to_csv(\"538_small.csv\",index=False)"
   ]
  },
  {
   "cell_type": "code",
   "execution_count": 2,
   "id": "193ab032",
   "metadata": {},
   "outputs": [
    {
     "name": "stderr",
     "output_type": "stream",
     "text": [
      "<ipython-input-1-f2f0b6d2c418>:11: FutureWarning: The default value of regex will change from True to False in a future version.\n",
      "  df['Team'] = df['Team'].str.replace('1|2|3|4|5|6|7|8|9|0|\\-', '')\n",
      "<ipython-input-1-f2f0b6d2c418>:12: FutureWarning: The default value of regex will change from True to False in a future version.\n",
      "  df['Chance of Making PlayoffsMake play-offs'] = df['Chance of Making PlayoffsMake play-offs'].str.replace('|>|<', '')\n",
      "<ipython-input-1-f2f0b6d2c418>:13: FutureWarning: The default value of regex will change from True to False in a future version.\n",
      "  df['Chance of Making FinalsMake Finals'] = df['Chance of Making FinalsMake Finals'].str.replace('|>|<', '')\n",
      "<ipython-input-1-f2f0b6d2c418>:14: FutureWarning: The default value of regex will change from True to False in a future version.\n",
      "  df['Chance of Winning FinalsWin Finals'] = df['Chance of Winning FinalsWin Finals'].str.replace('|>|<', '')\n"
     ]
    }
   ],
   "source": [
    "scrape(\"https://projects.fivethirtyeight.com/2022-nba-predictions/?ex_cid=rrpromo\")"
   ]
  },
  {
   "cell_type": "code",
   "execution_count": null,
   "id": "37664598",
   "metadata": {},
   "outputs": [],
   "source": []
  }
 ],
 "metadata": {
  "kernelspec": {
   "display_name": "Python 3",
   "language": "python",
   "name": "python3"
  },
  "language_info": {
   "codemirror_mode": {
    "name": "ipython",
    "version": 3
   },
   "file_extension": ".py",
   "mimetype": "text/x-python",
   "name": "python",
   "nbconvert_exporter": "python",
   "pygments_lexer": "ipython3",
   "version": "3.8.8"
  }
 },
 "nbformat": 4,
 "nbformat_minor": 5
}
