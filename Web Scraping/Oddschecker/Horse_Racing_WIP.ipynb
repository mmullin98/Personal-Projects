{
 "cells": [
  {
   "cell_type": "code",
   "execution_count": 4,
   "id": "571e9d7a",
   "metadata": {},
   "outputs": [],
   "source": [
    "from bs4 import BeautifulSoup as bs\n",
    "from datetime import datetime\n",
    "from datetime import date\n",
    "from datetime import timedelta\n",
    "from fractions import Fraction\n",
    "import requests\n",
    "import cloudscraper\n",
    "import pandas as pd\n",
    "import math"
   ]
  },
  {
   "cell_type": "markdown",
   "id": "387870e4",
   "metadata": {},
   "source": [
    "## Takes in url and outputs dataframe into csv with prices"
   ]
  },
  {
   "cell_type": "code",
   "execution_count": 39,
   "id": "bcc33935",
   "metadata": {},
   "outputs": [],
   "source": [
    "today = date.today()\n",
    "tomorrow = today + timedelta(days=1)\n",
    "dayafternext = tomorrow + timedelta(days=1)\n",
    "str_today = str(today)\n",
    "str_tomorrow = str(tomorrow)\n",
    "str_dayafternext = str(dayafternext)\n",
    "\n",
    "def per_chance(d):\n",
    "    d = str(Fraction(d)+1)\n",
    "    return round((1/d)*100,2)\n",
    "\n",
    "\n",
    "def scrape(url):\n",
    "\n",
    "    scraper = cloudscraper.create_scraper(browser={'browser': 'firefox','platform': 'windows','mobile': False})\n",
    "\n",
    "    r = scraper.get(url).content\n",
    "\n",
    "\n",
    "    # Convert to bs object\n",
    "    soup = bs(r,'lxml')\n",
    "    contents = soup.prettify()\n",
    "\n",
    "    bad_bookies = [\"888\", \"Mansion\", \"Betfred\", \"Betway\"]\n",
    "\n",
    "    class_tags = [\"bc bs oo b\",\n",
    "                        \"bc bs oi\",\n",
    "                        \"bc bs o\",\n",
    "                        \"bc bs oo\",\n",
    "                        \"bc bs o\",\n",
    "                        \"bc bs oo win-only\",\n",
    "                        \"bc bs o b\",\n",
    "                        \"bc bs oi b\",\n",
    "                       ]\n",
    "\n",
    "\n",
    "    bookies = [\"b365\",\n",
    "                   \"SkyBet\",\n",
    "                   \"PaddyPower\",\n",
    "                   \"William Hill\",\n",
    "                   \"888\",\n",
    "                   \"Betfair\",\n",
    "                   \"BetVictor\",\n",
    "                   \"Coral / Ladbrokes\",\n",
    "                   \"Unibet\",\n",
    "                   \"Mansion\",\n",
    "                   \"Betfred\",\n",
    "                   \"Betway\",\n",
    "                   \"Boyles\"\n",
    "        ]\n",
    "\n",
    "    names = soup.find_all('a', class_=\"popup selTxt\")\n",
    "    all_names = []\n",
    "\n",
    "        # Eliminating Non Runners\n",
    "    nr = \"(N/R)\"\n",
    "\n",
    "        # Appending each name to all_names list\n",
    "    i=0\n",
    "    while i < len(names):\n",
    "        if nr in names[i]:\n",
    "            i+=1\n",
    "        else:\n",
    "            all_names.append(names[i].text) \n",
    "            i+=1\n",
    "\n",
    "        # Create dataframe & add names\n",
    "    df = pd.DataFrame({'Name':all_names})\n",
    "\n",
    "        # Cleaning\n",
    "    df['Name'] = df['Name']\n",
    "    for column in df.columns:\n",
    "        df = df.apply(lambda x: x.str.strip() if x.dtype == \"object\" else x)\n",
    "\n",
    "\n",
    "        # Adding columns\n",
    "    df = df.assign(**dict.fromkeys(bookies,0))\n",
    "    df[bookies] = df[bookies].astype(\"float\")\n",
    "\n",
    "    all_data = soup.find('tr', class_=\"diff-row evTabRow bc\")\n",
    "    all_prices = all_data.find_all('td',class_=class_tags)\n",
    "    all_data = soup.find_all('tr', class_=\"diff-row evTabRow bc\")\n",
    "\n",
    "\n",
    "\n",
    "    num_of_horses = len(df)\n",
    "    k = 0 \n",
    "    horses = []\n",
    "\n",
    "    while k< num_of_horses:\n",
    "        name = \"horse\" + str(k)\n",
    "        name = all_data[k].find_all('td',class_=class_tags)\n",
    "        horses.append(name)\n",
    "        k+=1\n",
    "\n",
    "\n",
    "    horse_number = 0\n",
    "    i = 0 \n",
    "    SP = \"SP\"\n",
    "\n",
    "    while horse_number < num_of_horses:\n",
    "        i=0\n",
    "        select_prices = []\n",
    "        while i < len(bookies):\n",
    "            select_prices.append(horses[horse_number][i].text)     \n",
    "            df[bookies[i]][horse_number] = select_prices[i]  \n",
    "            i+=1\n",
    "\n",
    "        horse_number+=1\n",
    "\n",
    "\n",
    "\n",
    "\n",
    "\n",
    "    df = df.drop(columns = bad_bookies)\n",
    "    df[\"365%\"] = per_chance(df[\"b365\"])\n",
    "    df[\"PP%\"] = per_chance(df[\"PaddyPower\"])\n",
    "\n",
    "    df[\"AVG%\"] = round(((per_chance(df[\"SkyBet\"]) + per_chance(df[\"PaddyPower\"]) + per_chance(df[\"William Hill\"]) + \n",
    "                         per_chance(df[\"Betfair\"]) + per_chance(df[\"BetVictor\"]) + per_chance(df[\"Coral / Ladbrokes\"]) +\n",
    "                         per_chance(df[\"Unibet\"]) + per_chance(df[\"Boyles\"]))/8),2)\n",
    "\n",
    "    df[\"% Diff (365 v PP)\"] = df[\"PP%\"] - df[\"365%\"]\n",
    "    df[\"% Diff (365 v AVG)\"] = df[\"AVG%\"] - df[\"365%\"]\n",
    "\n",
    "\n",
    "    peep = 0\n",
    "    sheet_num = str(peep)\n",
    "    race_info = soup.find('div', class_=\"left-if-has-race-info\")\n",
    "    race_info = race_info.text\n",
    "    meeting = race_info.split()[0]\n",
    "    time_of_race = race_info.split()[2]\n",
    "    which_race = meeting\n",
    "    df.to_excel(\"HorseRacing_\"+str_today+\".xlsx\", sheet_name = \"sheet_\"+sheet_num, index=False)"
   ]
  },
  {
   "cell_type": "code",
   "execution_count": 43,
   "id": "6f8659aa",
   "metadata": {},
   "outputs": [],
   "source": [
    "def per_chance(d):\n",
    "    d = float(Fraction(d)+1)\n",
    "    return round((1/d)*100,2)\n"
   ]
  },
  {
   "cell_type": "code",
   "execution_count": 46,
   "id": "56bfe9cc",
   "metadata": {},
   "outputs": [
    {
     "data": {
      "text/plain": [
       "2.86"
      ]
     },
     "execution_count": 46,
     "metadata": {},
     "output_type": "execute_result"
    }
   ],
   "source": [
    "per_chance(\"34\")"
   ]
  },
  {
   "cell_type": "code",
   "execution_count": 40,
   "id": "c9a95e5b",
   "metadata": {},
   "outputs": [
    {
     "name": "stderr",
     "output_type": "stream",
     "text": [
      "<ipython-input-39-f9c67745344d>:106: SettingWithCopyWarning: \n",
      "A value is trying to be set on a copy of a slice from a DataFrame\n",
      "\n",
      "See the caveats in the documentation: https://pandas.pydata.org/pandas-docs/stable/user_guide/indexing.html#returning-a-view-versus-a-copy\n",
      "  df[bookies[i]][horse_number] = select_prices[i]\n"
     ]
    },
    {
     "ename": "TypeError",
     "evalue": "argument should be a string or a Rational instance",
     "output_type": "error",
     "traceback": [
      "\u001b[1;31m---------------------------------------------------------------------------\u001b[0m",
      "\u001b[1;31mTypeError\u001b[0m                                 Traceback (most recent call last)",
      "\u001b[1;32m<ipython-input-40-08488beefc8c>\u001b[0m in \u001b[0;36m<module>\u001b[1;34m\u001b[0m\n\u001b[1;32m----> 1\u001b[1;33m \u001b[0mscrape\u001b[0m\u001b[1;33m(\u001b[0m\u001b[1;34m\"https://www.oddschecker.com/horse-racing/chelmsford-city/17:00/winner\"\u001b[0m\u001b[1;33m)\u001b[0m\u001b[1;33m\u001b[0m\u001b[1;33m\u001b[0m\u001b[0m\n\u001b[0m",
      "\u001b[1;32m<ipython-input-39-f9c67745344d>\u001b[0m in \u001b[0;36mscrape\u001b[1;34m(url)\u001b[0m\n\u001b[0;32m    114\u001b[0m \u001b[1;33m\u001b[0m\u001b[0m\n\u001b[0;32m    115\u001b[0m     \u001b[0mdf\u001b[0m \u001b[1;33m=\u001b[0m \u001b[0mdf\u001b[0m\u001b[1;33m.\u001b[0m\u001b[0mdrop\u001b[0m\u001b[1;33m(\u001b[0m\u001b[0mcolumns\u001b[0m \u001b[1;33m=\u001b[0m \u001b[0mbad_bookies\u001b[0m\u001b[1;33m)\u001b[0m\u001b[1;33m\u001b[0m\u001b[1;33m\u001b[0m\u001b[0m\n\u001b[1;32m--> 116\u001b[1;33m     \u001b[0mdf\u001b[0m\u001b[1;33m[\u001b[0m\u001b[1;34m\"365%\"\u001b[0m\u001b[1;33m]\u001b[0m \u001b[1;33m=\u001b[0m \u001b[0mper_chance\u001b[0m\u001b[1;33m(\u001b[0m\u001b[0mdf\u001b[0m\u001b[1;33m[\u001b[0m\u001b[1;34m\"b365\"\u001b[0m\u001b[1;33m]\u001b[0m\u001b[1;33m)\u001b[0m\u001b[1;33m\u001b[0m\u001b[1;33m\u001b[0m\u001b[0m\n\u001b[0m\u001b[0;32m    117\u001b[0m     \u001b[0mdf\u001b[0m\u001b[1;33m[\u001b[0m\u001b[1;34m\"PP%\"\u001b[0m\u001b[1;33m]\u001b[0m \u001b[1;33m=\u001b[0m \u001b[0mper_chance\u001b[0m\u001b[1;33m(\u001b[0m\u001b[0mdf\u001b[0m\u001b[1;33m[\u001b[0m\u001b[1;34m\"PaddyPower\"\u001b[0m\u001b[1;33m]\u001b[0m\u001b[1;33m)\u001b[0m\u001b[1;33m\u001b[0m\u001b[1;33m\u001b[0m\u001b[0m\n\u001b[0;32m    118\u001b[0m \u001b[1;33m\u001b[0m\u001b[0m\n",
      "\u001b[1;32m<ipython-input-39-f9c67745344d>\u001b[0m in \u001b[0;36mper_chance\u001b[1;34m(d)\u001b[0m\n\u001b[0;32m      7\u001b[0m \u001b[1;33m\u001b[0m\u001b[0m\n\u001b[0;32m      8\u001b[0m \u001b[1;32mdef\u001b[0m \u001b[0mper_chance\u001b[0m\u001b[1;33m(\u001b[0m\u001b[0md\u001b[0m\u001b[1;33m)\u001b[0m\u001b[1;33m:\u001b[0m\u001b[1;33m\u001b[0m\u001b[1;33m\u001b[0m\u001b[0m\n\u001b[1;32m----> 9\u001b[1;33m     \u001b[0md\u001b[0m \u001b[1;33m=\u001b[0m \u001b[0mstr\u001b[0m\u001b[1;33m(\u001b[0m\u001b[0mFraction\u001b[0m\u001b[1;33m(\u001b[0m\u001b[0md\u001b[0m\u001b[1;33m)\u001b[0m\u001b[1;33m+\u001b[0m\u001b[1;36m1\u001b[0m\u001b[1;33m)\u001b[0m\u001b[1;33m\u001b[0m\u001b[1;33m\u001b[0m\u001b[0m\n\u001b[0m\u001b[0;32m     10\u001b[0m     \u001b[1;32mreturn\u001b[0m \u001b[0mround\u001b[0m\u001b[1;33m(\u001b[0m\u001b[1;33m(\u001b[0m\u001b[1;36m1\u001b[0m\u001b[1;33m/\u001b[0m\u001b[0md\u001b[0m\u001b[1;33m)\u001b[0m\u001b[1;33m*\u001b[0m\u001b[1;36m100\u001b[0m\u001b[1;33m,\u001b[0m\u001b[1;36m2\u001b[0m\u001b[1;33m)\u001b[0m\u001b[1;33m\u001b[0m\u001b[1;33m\u001b[0m\u001b[0m\n\u001b[0;32m     11\u001b[0m \u001b[1;33m\u001b[0m\u001b[0m\n",
      "\u001b[1;32m~\\Anaconda3\\lib\\fractions.py\u001b[0m in \u001b[0;36m__new__\u001b[1;34m(cls, numerator, denominator, _normalize)\u001b[0m\n\u001b[0;32m    159\u001b[0m \u001b[1;33m\u001b[0m\u001b[0m\n\u001b[0;32m    160\u001b[0m             \u001b[1;32melse\u001b[0m\u001b[1;33m:\u001b[0m\u001b[1;33m\u001b[0m\u001b[1;33m\u001b[0m\u001b[0m\n\u001b[1;32m--> 161\u001b[1;33m                 raise TypeError(\"argument should be a string \"\n\u001b[0m\u001b[0;32m    162\u001b[0m                                 \"or a Rational instance\")\n\u001b[0;32m    163\u001b[0m \u001b[1;33m\u001b[0m\u001b[0m\n",
      "\u001b[1;31mTypeError\u001b[0m: argument should be a string or a Rational instance"
     ]
    }
   ],
   "source": [
    "scrape(\"https://www.oddschecker.com/horse-racing/chelmsford-city/17:00/winner\")"
   ]
  },
  {
   "cell_type": "markdown",
   "id": "0b75ce64",
   "metadata": {},
   "source": [
    "### Notes\n",
    "- make several dfs for each race and then merge all?"
   ]
  }
 ],
 "metadata": {
  "kernelspec": {
   "display_name": "Python 3",
   "language": "python",
   "name": "python3"
  },
  "language_info": {
   "codemirror_mode": {
    "name": "ipython",
    "version": 3
   },
   "file_extension": ".py",
   "mimetype": "text/x-python",
   "name": "python",
   "nbconvert_exporter": "python",
   "pygments_lexer": "ipython3",
   "version": "3.8.8"
  }
 },
 "nbformat": 4,
 "nbformat_minor": 5
}
